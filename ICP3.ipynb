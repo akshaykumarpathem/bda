{
  "nbformat": 4,
  "nbformat_minor": 0,
  "metadata": {
    "colab": {
      "provenance": []
    },
    "kernelspec": {
      "name": "python3",
      "display_name": "Python 3"
    },
    "language_info": {
      "name": "python"
    }
  },
  "cells": [
    {
      "cell_type": "code",
      "source": [
        "import numpy as np\n",
        "import pandas as pd\n",
        "\n",
        "# Corrected dictionary\n",
        "data = {\n",
        "    'ID': np.arange(1, 1000001),  # 1 million IDs\n",
        "    'Value': np.random.rand(1000000),  # 1 million random values\n",
        "    'Category': np.random.choice(['A', 'B', 'C', 'D'], size=1000000)  # Random categories\n",
        "}\n",
        "\n",
        "# Creating the DataFrame\n",
        "d = pd.DataFrame(data)\n",
        "\n",
        "# Displaying the first few rows of the DataFrame\n",
        "print(d.head())"
      ],
      "metadata": {
        "colab": {
          "base_uri": "https://localhost:8080/"
        },
        "id": "Cj78AviaQAE7",
        "outputId": "f4a64cac-161f-468b-c465-d59d0d24e303"
      },
      "execution_count": 16,
      "outputs": [
        {
          "output_type": "stream",
          "name": "stdout",
          "text": [
            "   ID     Value Category\n",
            "0   1  0.009584        D\n",
            "1   2  0.816282        A\n",
            "2   3  0.943391        B\n",
            "3   4  0.849738        D\n",
            "4   5  0.375305        D\n"
          ]
        }
      ]
    },
    {
      "cell_type": "code",
      "source": [],
      "metadata": {
        "id": "0vKGuDQ-V7a0"
      },
      "execution_count": null,
      "outputs": []
    },
    {
      "cell_type": "code",
      "source": [
        "import numpy as np\n",
        "import pandas as pd\n",
        "\n",
        "# Corrected dictionary\n",
        "data = {\n",
        "    'ID': np.arange(1, 1000001),  # 1 million IDs\n",
        "    'Value': np.random.rand(1000000),  # 1 million random values\n",
        "    'Category': np.random.choice(['A', 'B', 'C', 'D'], size=1000000)  # Random categories\n",
        "}\n",
        "\n",
        "# Creating the DataFrame\n",
        "d = pd.DataFrame(data)\n",
        "\n",
        "# Displaying the first few rows of the DataFrame\n",
        "print(d.head(10))"
      ],
      "metadata": {
        "colab": {
          "base_uri": "https://localhost:8080/"
        },
        "id": "J42Tv1ocQMau",
        "outputId": "2d8d7ce7-8811-475f-a8e0-4b8e898d525b"
      },
      "execution_count": 17,
      "outputs": [
        {
          "output_type": "stream",
          "name": "stdout",
          "text": [
            "   ID     Value Category\n",
            "0   1  0.187880        C\n",
            "1   2  0.127298        D\n",
            "2   3  0.234308        A\n",
            "3   4  0.171030        A\n",
            "4   5  0.878777        B\n",
            "5   6  0.923719        A\n",
            "6   7  0.588718        C\n",
            "7   8  0.589305        D\n",
            "8   9  0.934343        B\n",
            "9  10  0.580939        D\n"
          ]
        }
      ]
    },
    {
      "cell_type": "code",
      "source": [
        "import numpy as np\n",
        "import pandas as pd\n",
        "\n",
        "# Corrected dictionary\n",
        "data = {\n",
        "    'ID': np.arange(1, 1000001),  # 1 million IDs\n",
        "    'Value': np.random.rand(1000000),  # 1 million random values\n",
        "    'Category': np.random.choice(['A', 'B', 'C', 'D'], size=1000000)  # Random categories\n",
        "}\n",
        "\n",
        "# Creating the DataFrame\n",
        "d = pd.DataFrame(data)\n",
        "\n",
        "# Displaying the first few rows of the DataFrame\n",
        "print(d['Value'].head(10))"
      ],
      "metadata": {
        "colab": {
          "base_uri": "https://localhost:8080/"
        },
        "id": "2JHiKAwyQyEq",
        "outputId": "bcd38fd4-65bb-4f63-c23b-bd90f92f32d8"
      },
      "execution_count": 20,
      "outputs": [
        {
          "output_type": "stream",
          "name": "stdout",
          "text": [
            "0    0.097612\n",
            "1    0.424642\n",
            "2    0.591496\n",
            "3    0.880452\n",
            "4    0.006170\n",
            "5    0.600627\n",
            "6    0.494344\n",
            "7    0.269559\n",
            "8    0.161614\n",
            "9    0.938304\n",
            "Name: Value, dtype: float64\n"
          ]
        }
      ]
    },
    {
      "cell_type": "code",
      "source": [
        "import numpy as np\n",
        "import pandas as pd\n",
        "\n",
        "# Corrected dictionary\n",
        "data = {\n",
        "    'ID': np.arange(1, 1000001),  # 1 million IDs\n",
        "    'Value': np.random.rand(1000000),  # 1 million random values\n",
        "    'Category': np.random.choice(['A', 'B', 'C', 'D'], size=1000000)  # Random categories\n",
        "}\n",
        "\n",
        "# Creating the DataFrame\n",
        "d = pd.DataFrame(data)\n",
        "Value_column = d['Value']\n",
        "\n",
        "# Displaying the first few rows of the DataFrame\n",
        "print(Value_column.head())"
      ],
      "metadata": {
        "colab": {
          "base_uri": "https://localhost:8080/"
        },
        "id": "Ic0jueHcQ_yX",
        "outputId": "4c779dd9-ff2a-4075-ffe1-5f95c6cecbd7"
      },
      "execution_count": 21,
      "outputs": [
        {
          "output_type": "stream",
          "name": "stdout",
          "text": [
            "0    0.669386\n",
            "1    0.578741\n",
            "2    0.344087\n",
            "3    0.126780\n",
            "4    0.922117\n",
            "Name: Value, dtype: float64\n"
          ]
        }
      ]
    },
    {
      "cell_type": "code",
      "source": [
        "import numpy as np\n",
        "import pandas as pd\n",
        "\n",
        "# Create the dictionary\n",
        "data = {\n",
        "    'ID': np.arange(1, 1000001),  # 1 million IDs\n",
        "    'Value': np.random.rand(1000000),  # 1 million random values\n",
        "    'Category': np.random.choice(['A', 'B', 'C', 'D'], size=1000000)  # Random categories\n",
        "}\n",
        "\n",
        "# Create the DataFrame\n",
        "d = pd.DataFrame(data)\n",
        "\n",
        "# Rename the columns\n",
        "d.rename(columns={\n",
        "    'ID': 'ID number',\n",
        "    'Value': 'Random value',\n",
        "    'Category': 'Choice'\n",
        "}, inplace=True)\n",
        "\n",
        "# Display the first five rows\n",
        "print(d.head())"
      ],
      "metadata": {
        "colab": {
          "base_uri": "https://localhost:8080/"
        },
        "id": "RaupKvJTSFze",
        "outputId": "691bb92a-01ba-4bbb-f6c0-56fdf6ec098f"
      },
      "execution_count": 22,
      "outputs": [
        {
          "output_type": "stream",
          "name": "stdout",
          "text": [
            "   ID number  Random value Choice\n",
            "0          1      0.855382      D\n",
            "1          2      0.583019      B\n",
            "2          3      0.324775      C\n",
            "3          4      0.861327      C\n",
            "4          5      0.653837      B\n"
          ]
        }
      ]
    },
    {
      "cell_type": "code",
      "source": [
        "import pandas as pd\n",
        "pd.set_option('display.max_rows', None)\n",
        "student_data = pd.DataFrame({\n",
        "'school_code': ['s001', 's002', 's003', 's001', 's002', 's004'],\n",
        "'class': ['V', 'V', 'VI', 'VI', 'V', 'VI'],\n",
        "'name': ['Alberto Franco', 'Gino Mcneill', 'Ryan Parkes', 'Eesha Hinton', 'Gino Mcneill', 'David Parkes'],\n",
        "'date_of_birth': ['15/05/2002', '17/05/2002', '16/02/1999', '25/09/1998', '11/05/2002', '15/09/1997'],\n",
        "'age': [12, 12, 13, 13, 14, 12],\n",
        "'height': [173, 192, 186, 167, 151, 159],\n",
        "'weight': [35, 32, 33, 30, 31, 32],\n",
        "'address': ['street1', 'street2', 'street3', 'street4', 'street5', 'street6']\n",
        "}, index=['S1', 'S2', 'S3', 'S4', 'S5', 'S6'])\n",
        "print(\"Original Dataframe:\")\n",
        "print(student_data)\n",
        "print('\\nSplit the said data on school_code, class wise:')\n",
        "result = student_data.groupby(['school_code', 'class'])\n",
        "for name, group in result:\n",
        "print(\"\\nGroup:\")\n",
        "print(name)\n",
        "print(group)"
      ],
      "metadata": {
        "colab": {
          "base_uri": "https://localhost:8080/",
          "height": 108
        },
        "id": "v-2HcbKXTLW8",
        "outputId": "bc07b4d6-b0c2-4af5-f396-a3af7207d7df"
      },
      "execution_count": null,
      "outputs": [
        {
          "output_type": "error",
          "ename": "IndentationError",
          "evalue": "expected an indented block after 'for' statement on line 17 (<ipython-input-6-a25d02c847a8>, line 18)",
          "traceback": [
            "\u001b[0;36m  File \u001b[0;32m\"<ipython-input-6-a25d02c847a8>\"\u001b[0;36m, line \u001b[0;32m18\u001b[0m\n\u001b[0;31m    print(\"\\nGroup:\")\u001b[0m\n\u001b[0m    ^\u001b[0m\n\u001b[0;31mIndentationError\u001b[0m\u001b[0;31m:\u001b[0m expected an indented block after 'for' statement on line 17\n"
          ]
        }
      ]
    },
    {
      "cell_type": "code",
      "source": [
        "import pandas as pd\n",
        "\n",
        "# Set display options\n",
        "pd.set_option('display.max_rows', None)\n",
        "\n",
        "# Create DataFrame with corrected syntax\n",
        "student_data = pd.DataFrame({\n",
        "    'school_code': ['s001', 's002', 's003', 's001', 's002', 's004'],\n",
        "    'class': ['V', 'V', 'VI', 'VI', 'V', 'VI'],\n",
        "    'name': ['Alberto Franco', 'Gino Mcneill', 'Ryan Parkes', 'Eesha Hinton', 'Gino Mcneill', 'David Parkes'],\n",
        "    'date_of_birth': ['15/05/2002', '17/05/2002', '16/02/1999', '25/09/1998', '11/05/2002', '15/09/1997'],\n",
        "    'age': [12, 12, 13, 13, 14, 12],\n",
        "    'height': [173, 192, 186, 167, 151, 159],\n",
        "    'weight': [35, 32, 33, 30, 31, 32],\n",
        "    'address': ['street1', 'street2', 'street3', 'street4', 'street5', 'street6']\n",
        "}, index=['S1', 'S2', 'S3', 'S4', 'S5', 'S6'])\n",
        "\n",
        "print(\"Original Dataframe:\")\n",
        "print(student_data)\n",
        "\n",
        "print('\\nSplit the said data on school_code, class wise:')\n",
        "\n",
        "# Group by 'school_code' and 'class'\n",
        "result = student_data.groupby(['school_code', 'class'])\n",
        "\n",
        "for name, group in result:\n",
        "    print(\"\\nGroup:\")\n",
        "    print(name)\n",
        "    print(group)"
      ],
      "metadata": {
        "colab": {
          "base_uri": "https://localhost:8080/"
        },
        "id": "HlaHqElaTibI",
        "outputId": "c0d5e02a-ebfe-4528-cf43-8f5ba872badb"
      },
      "execution_count": 23,
      "outputs": [
        {
          "output_type": "stream",
          "name": "stdout",
          "text": [
            "Original Dataframe:\n",
            "   school_code class            name date_of_birth  age  height  weight  \\\n",
            "S1        s001     V  Alberto Franco    15/05/2002   12     173      35   \n",
            "S2        s002     V    Gino Mcneill    17/05/2002   12     192      32   \n",
            "S3        s003    VI     Ryan Parkes    16/02/1999   13     186      33   \n",
            "S4        s001    VI    Eesha Hinton    25/09/1998   13     167      30   \n",
            "S5        s002     V    Gino Mcneill    11/05/2002   14     151      31   \n",
            "S6        s004    VI    David Parkes    15/09/1997   12     159      32   \n",
            "\n",
            "    address  \n",
            "S1  street1  \n",
            "S2  street2  \n",
            "S3  street3  \n",
            "S4  street4  \n",
            "S5  street5  \n",
            "S6  street6  \n",
            "\n",
            "Split the said data on school_code, class wise:\n",
            "\n",
            "Group:\n",
            "('s001', 'V')\n",
            "   school_code class            name date_of_birth  age  height  weight  \\\n",
            "S1        s001     V  Alberto Franco    15/05/2002   12     173      35   \n",
            "\n",
            "    address  \n",
            "S1  street1  \n",
            "\n",
            "Group:\n",
            "('s001', 'VI')\n",
            "   school_code class          name date_of_birth  age  height  weight  address\n",
            "S4        s001    VI  Eesha Hinton    25/09/1998   13     167      30  street4\n",
            "\n",
            "Group:\n",
            "('s002', 'V')\n",
            "   school_code class          name date_of_birth  age  height  weight  address\n",
            "S2        s002     V  Gino Mcneill    17/05/2002   12     192      32  street2\n",
            "S5        s002     V  Gino Mcneill    11/05/2002   14     151      31  street5\n",
            "\n",
            "Group:\n",
            "('s003', 'VI')\n",
            "   school_code class         name date_of_birth  age  height  weight  address\n",
            "S3        s003    VI  Ryan Parkes    16/02/1999   13     186      33  street3\n",
            "\n",
            "Group:\n",
            "('s004', 'VI')\n",
            "   school_code class          name date_of_birth  age  height  weight  address\n",
            "S6        s004    VI  David Parkes    15/09/1997   12     159      32  street6\n"
          ]
        }
      ]
    },
    {
      "cell_type": "code",
      "source": [
        "import pandas as pd\n",
        "# Load the CSV file\n",
        "file_path = '/content/data.csv'\n",
        "d = pd.read_csv(file_path)\n",
        "\n",
        "# Show the first few rows of the DataFrame to understand its structure\n",
        "d.head()"
      ],
      "metadata": {
        "id": "a74wox5CjXnt",
        "colab": {
          "base_uri": "https://localhost:8080/",
          "height": 206
        },
        "outputId": "e8acafd6-b328-425a-8fcd-fecb70bee638"
      },
      "execution_count": 36,
      "outputs": [
        {
          "output_type": "execute_result",
          "data": {
            "text/plain": [
              "   Duration  Pulse  Maxpulse  Calories\n",
              "0        60    110       130     409.1\n",
              "1        60    117       145     479.0\n",
              "2        60    103       135     340.0\n",
              "3        45    109       175     282.4\n",
              "4        45    117       148     406.0"
            ],
            "text/html": [
              "\n",
              "  <div id=\"df-87ed993d-0ae7-439e-a001-e3dce5ef34a0\" class=\"colab-df-container\">\n",
              "    <div>\n",
              "<style scoped>\n",
              "    .dataframe tbody tr th:only-of-type {\n",
              "        vertical-align: middle;\n",
              "    }\n",
              "\n",
              "    .dataframe tbody tr th {\n",
              "        vertical-align: top;\n",
              "    }\n",
              "\n",
              "    .dataframe thead th {\n",
              "        text-align: right;\n",
              "    }\n",
              "</style>\n",
              "<table border=\"1\" class=\"dataframe\">\n",
              "  <thead>\n",
              "    <tr style=\"text-align: right;\">\n",
              "      <th></th>\n",
              "      <th>Duration</th>\n",
              "      <th>Pulse</th>\n",
              "      <th>Maxpulse</th>\n",
              "      <th>Calories</th>\n",
              "    </tr>\n",
              "  </thead>\n",
              "  <tbody>\n",
              "    <tr>\n",
              "      <th>0</th>\n",
              "      <td>60</td>\n",
              "      <td>110</td>\n",
              "      <td>130</td>\n",
              "      <td>409.1</td>\n",
              "    </tr>\n",
              "    <tr>\n",
              "      <th>1</th>\n",
              "      <td>60</td>\n",
              "      <td>117</td>\n",
              "      <td>145</td>\n",
              "      <td>479.0</td>\n",
              "    </tr>\n",
              "    <tr>\n",
              "      <th>2</th>\n",
              "      <td>60</td>\n",
              "      <td>103</td>\n",
              "      <td>135</td>\n",
              "      <td>340.0</td>\n",
              "    </tr>\n",
              "    <tr>\n",
              "      <th>3</th>\n",
              "      <td>45</td>\n",
              "      <td>109</td>\n",
              "      <td>175</td>\n",
              "      <td>282.4</td>\n",
              "    </tr>\n",
              "    <tr>\n",
              "      <th>4</th>\n",
              "      <td>45</td>\n",
              "      <td>117</td>\n",
              "      <td>148</td>\n",
              "      <td>406.0</td>\n",
              "    </tr>\n",
              "  </tbody>\n",
              "</table>\n",
              "</div>\n",
              "    <div class=\"colab-df-buttons\">\n",
              "\n",
              "  <div class=\"colab-df-container\">\n",
              "    <button class=\"colab-df-convert\" onclick=\"convertToInteractive('df-87ed993d-0ae7-439e-a001-e3dce5ef34a0')\"\n",
              "            title=\"Convert this dataframe to an interactive table.\"\n",
              "            style=\"display:none;\">\n",
              "\n",
              "  <svg xmlns=\"http://www.w3.org/2000/svg\" height=\"24px\" viewBox=\"0 -960 960 960\">\n",
              "    <path d=\"M120-120v-720h720v720H120Zm60-500h600v-160H180v160Zm220 220h160v-160H400v160Zm0 220h160v-160H400v160ZM180-400h160v-160H180v160Zm440 0h160v-160H620v160ZM180-180h160v-160H180v160Zm440 0h160v-160H620v160Z\"/>\n",
              "  </svg>\n",
              "    </button>\n",
              "\n",
              "  <style>\n",
              "    .colab-df-container {\n",
              "      display:flex;\n",
              "      gap: 12px;\n",
              "    }\n",
              "\n",
              "    .colab-df-convert {\n",
              "      background-color: #E8F0FE;\n",
              "      border: none;\n",
              "      border-radius: 50%;\n",
              "      cursor: pointer;\n",
              "      display: none;\n",
              "      fill: #1967D2;\n",
              "      height: 32px;\n",
              "      padding: 0 0 0 0;\n",
              "      width: 32px;\n",
              "    }\n",
              "\n",
              "    .colab-df-convert:hover {\n",
              "      background-color: #E2EBFA;\n",
              "      box-shadow: 0px 1px 2px rgba(60, 64, 67, 0.3), 0px 1px 3px 1px rgba(60, 64, 67, 0.15);\n",
              "      fill: #174EA6;\n",
              "    }\n",
              "\n",
              "    .colab-df-buttons div {\n",
              "      margin-bottom: 4px;\n",
              "    }\n",
              "\n",
              "    [theme=dark] .colab-df-convert {\n",
              "      background-color: #3B4455;\n",
              "      fill: #D2E3FC;\n",
              "    }\n",
              "\n",
              "    [theme=dark] .colab-df-convert:hover {\n",
              "      background-color: #434B5C;\n",
              "      box-shadow: 0px 1px 3px 1px rgba(0, 0, 0, 0.15);\n",
              "      filter: drop-shadow(0px 1px 2px rgba(0, 0, 0, 0.3));\n",
              "      fill: #FFFFFF;\n",
              "    }\n",
              "  </style>\n",
              "\n",
              "    <script>\n",
              "      const buttonEl =\n",
              "        document.querySelector('#df-87ed993d-0ae7-439e-a001-e3dce5ef34a0 button.colab-df-convert');\n",
              "      buttonEl.style.display =\n",
              "        google.colab.kernel.accessAllowed ? 'block' : 'none';\n",
              "\n",
              "      async function convertToInteractive(key) {\n",
              "        const element = document.querySelector('#df-87ed993d-0ae7-439e-a001-e3dce5ef34a0');\n",
              "        const dataTable =\n",
              "          await google.colab.kernel.invokeFunction('convertToInteractive',\n",
              "                                                    [key], {});\n",
              "        if (!dataTable) return;\n",
              "\n",
              "        const docLinkHtml = 'Like what you see? Visit the ' +\n",
              "          '<a target=\"_blank\" href=https://colab.research.google.com/notebooks/data_table.ipynb>data table notebook</a>'\n",
              "          + ' to learn more about interactive tables.';\n",
              "        element.innerHTML = '';\n",
              "        dataTable['output_type'] = 'display_data';\n",
              "        await google.colab.output.renderOutput(dataTable, element);\n",
              "        const docLink = document.createElement('div');\n",
              "        docLink.innerHTML = docLinkHtml;\n",
              "        element.appendChild(docLink);\n",
              "      }\n",
              "    </script>\n",
              "  </div>\n",
              "\n",
              "\n",
              "<div id=\"df-85717641-f800-4d17-b85d-2d9d3b9de205\">\n",
              "  <button class=\"colab-df-quickchart\" onclick=\"quickchart('df-85717641-f800-4d17-b85d-2d9d3b9de205')\"\n",
              "            title=\"Suggest charts\"\n",
              "            style=\"display:none;\">\n",
              "\n",
              "<svg xmlns=\"http://www.w3.org/2000/svg\" height=\"24px\"viewBox=\"0 0 24 24\"\n",
              "     width=\"24px\">\n",
              "    <g>\n",
              "        <path d=\"M19 3H5c-1.1 0-2 .9-2 2v14c0 1.1.9 2 2 2h14c1.1 0 2-.9 2-2V5c0-1.1-.9-2-2-2zM9 17H7v-7h2v7zm4 0h-2V7h2v10zm4 0h-2v-4h2v4z\"/>\n",
              "    </g>\n",
              "</svg>\n",
              "  </button>\n",
              "\n",
              "<style>\n",
              "  .colab-df-quickchart {\n",
              "      --bg-color: #E8F0FE;\n",
              "      --fill-color: #1967D2;\n",
              "      --hover-bg-color: #E2EBFA;\n",
              "      --hover-fill-color: #174EA6;\n",
              "      --disabled-fill-color: #AAA;\n",
              "      --disabled-bg-color: #DDD;\n",
              "  }\n",
              "\n",
              "  [theme=dark] .colab-df-quickchart {\n",
              "      --bg-color: #3B4455;\n",
              "      --fill-color: #D2E3FC;\n",
              "      --hover-bg-color: #434B5C;\n",
              "      --hover-fill-color: #FFFFFF;\n",
              "      --disabled-bg-color: #3B4455;\n",
              "      --disabled-fill-color: #666;\n",
              "  }\n",
              "\n",
              "  .colab-df-quickchart {\n",
              "    background-color: var(--bg-color);\n",
              "    border: none;\n",
              "    border-radius: 50%;\n",
              "    cursor: pointer;\n",
              "    display: none;\n",
              "    fill: var(--fill-color);\n",
              "    height: 32px;\n",
              "    padding: 0;\n",
              "    width: 32px;\n",
              "  }\n",
              "\n",
              "  .colab-df-quickchart:hover {\n",
              "    background-color: var(--hover-bg-color);\n",
              "    box-shadow: 0 1px 2px rgba(60, 64, 67, 0.3), 0 1px 3px 1px rgba(60, 64, 67, 0.15);\n",
              "    fill: var(--button-hover-fill-color);\n",
              "  }\n",
              "\n",
              "  .colab-df-quickchart-complete:disabled,\n",
              "  .colab-df-quickchart-complete:disabled:hover {\n",
              "    background-color: var(--disabled-bg-color);\n",
              "    fill: var(--disabled-fill-color);\n",
              "    box-shadow: none;\n",
              "  }\n",
              "\n",
              "  .colab-df-spinner {\n",
              "    border: 2px solid var(--fill-color);\n",
              "    border-color: transparent;\n",
              "    border-bottom-color: var(--fill-color);\n",
              "    animation:\n",
              "      spin 1s steps(1) infinite;\n",
              "  }\n",
              "\n",
              "  @keyframes spin {\n",
              "    0% {\n",
              "      border-color: transparent;\n",
              "      border-bottom-color: var(--fill-color);\n",
              "      border-left-color: var(--fill-color);\n",
              "    }\n",
              "    20% {\n",
              "      border-color: transparent;\n",
              "      border-left-color: var(--fill-color);\n",
              "      border-top-color: var(--fill-color);\n",
              "    }\n",
              "    30% {\n",
              "      border-color: transparent;\n",
              "      border-left-color: var(--fill-color);\n",
              "      border-top-color: var(--fill-color);\n",
              "      border-right-color: var(--fill-color);\n",
              "    }\n",
              "    40% {\n",
              "      border-color: transparent;\n",
              "      border-right-color: var(--fill-color);\n",
              "      border-top-color: var(--fill-color);\n",
              "    }\n",
              "    60% {\n",
              "      border-color: transparent;\n",
              "      border-right-color: var(--fill-color);\n",
              "    }\n",
              "    80% {\n",
              "      border-color: transparent;\n",
              "      border-right-color: var(--fill-color);\n",
              "      border-bottom-color: var(--fill-color);\n",
              "    }\n",
              "    90% {\n",
              "      border-color: transparent;\n",
              "      border-bottom-color: var(--fill-color);\n",
              "    }\n",
              "  }\n",
              "</style>\n",
              "\n",
              "  <script>\n",
              "    async function quickchart(key) {\n",
              "      const quickchartButtonEl =\n",
              "        document.querySelector('#' + key + ' button');\n",
              "      quickchartButtonEl.disabled = true;  // To prevent multiple clicks.\n",
              "      quickchartButtonEl.classList.add('colab-df-spinner');\n",
              "      try {\n",
              "        const charts = await google.colab.kernel.invokeFunction(\n",
              "            'suggestCharts', [key], {});\n",
              "      } catch (error) {\n",
              "        console.error('Error during call to suggestCharts:', error);\n",
              "      }\n",
              "      quickchartButtonEl.classList.remove('colab-df-spinner');\n",
              "      quickchartButtonEl.classList.add('colab-df-quickchart-complete');\n",
              "    }\n",
              "    (() => {\n",
              "      let quickchartButtonEl =\n",
              "        document.querySelector('#df-85717641-f800-4d17-b85d-2d9d3b9de205 button');\n",
              "      quickchartButtonEl.style.display =\n",
              "        google.colab.kernel.accessAllowed ? 'block' : 'none';\n",
              "    })();\n",
              "  </script>\n",
              "</div>\n",
              "\n",
              "    </div>\n",
              "  </div>\n"
            ],
            "application/vnd.google.colaboratory.intrinsic+json": {
              "type": "dataframe",
              "variable_name": "d",
              "summary": "{\n  \"name\": \"d\",\n  \"rows\": 169,\n  \"fields\": [\n    {\n      \"column\": \"Duration\",\n      \"properties\": {\n        \"dtype\": \"number\",\n        \"std\": 42,\n        \"min\": 15,\n        \"max\": 300,\n        \"num_unique_values\": 16,\n        \"samples\": [\n          60,\n          45,\n          210\n        ],\n        \"semantic_type\": \"\",\n        \"description\": \"\"\n      }\n    },\n    {\n      \"column\": \"Pulse\",\n      \"properties\": {\n        \"dtype\": \"number\",\n        \"std\": 14,\n        \"min\": 80,\n        \"max\": 159,\n        \"num_unique_values\": 47,\n        \"samples\": [\n          159,\n          112,\n          153\n        ],\n        \"semantic_type\": \"\",\n        \"description\": \"\"\n      }\n    },\n    {\n      \"column\": \"Maxpulse\",\n      \"properties\": {\n        \"dtype\": \"number\",\n        \"std\": 16,\n        \"min\": 100,\n        \"max\": 184,\n        \"num_unique_values\": 57,\n        \"samples\": [\n          130,\n          127,\n          146\n        ],\n        \"semantic_type\": \"\",\n        \"description\": \"\"\n      }\n    },\n    {\n      \"column\": \"Calories\",\n      \"properties\": {\n        \"dtype\": \"number\",\n        \"std\": 266.3799192443516,\n        \"min\": 50.3,\n        \"max\": 1860.4,\n        \"num_unique_values\": 142,\n        \"samples\": [\n          328.0,\n          282.0,\n          229.4\n        ],\n        \"semantic_type\": \"\",\n        \"description\": \"\"\n      }\n    }\n  ]\n}"
            }
          },
          "metadata": {},
          "execution_count": 36
        }
      ]
    },
    {
      "cell_type": "code",
      "source": [
        "basic_stats = d.describe()\n",
        "print(\"The statistical discription:\")\n",
        "print(basic_stats)"
      ],
      "metadata": {
        "colab": {
          "base_uri": "https://localhost:8080/"
        },
        "id": "NN3NNSjwXLCy",
        "outputId": "af7b8c73-14a4-4970-985c-c98f031773f6"
      },
      "execution_count": 32,
      "outputs": [
        {
          "output_type": "stream",
          "name": "stdout",
          "text": [
            "The statistical discription:\n",
            "            ID number    Random value\n",
            "count  1000000.000000  1000000.000000\n",
            "mean    500000.500000        0.499997\n",
            "std     288675.278932        0.288617\n",
            "min          1.000000        0.000002\n",
            "25%     250000.750000        0.249924\n",
            "50%     500000.500000        0.499795\n",
            "75%     750000.250000        0.749826\n",
            "max    1000000.000000        1.000000\n"
          ]
        }
      ]
    },
    {
      "cell_type": "code",
      "source": [
        "null_values = d.isnull().sum()\n",
        "print(\"\\nNull Values in Each Column:\")\n",
        "print(null_values)\n",
        "\n",
        "# a. Replace the null values with the mean\n",
        "for col in d.columns:\n",
        "    if pd.api.types.is_numeric_dtype(d[col]):\n",
        "        d[col].fillna(d[col].mean(), inplace=True)"
      ],
      "metadata": {
        "colab": {
          "base_uri": "https://localhost:8080/"
        },
        "id": "qI77cfu7XVhK",
        "outputId": "6912288b-a545-4265-c23d-53c21b6aa589"
      },
      "execution_count": 33,
      "outputs": [
        {
          "output_type": "stream",
          "name": "stdout",
          "text": [
            "\n",
            "Null Values in Each Column:\n",
            "ID number       0\n",
            "Random value    0\n",
            "Choice          0\n",
            "dtype: int64\n"
          ]
        }
      ]
    },
    {
      "cell_type": "code",
      "source": [
        "aggregation = d.agg({\n",
        "    'Pulse': ['min', 'max', 'count', 'mean'],\n",
        "    'Calories': ['min', 'max', 'count', 'mean']\n",
        "})\n",
        "print(\"\\nAggregation of Pulse and Calories:\")\n",
        "print(aggregation)\n"
      ],
      "metadata": {
        "colab": {
          "base_uri": "https://localhost:8080/"
        },
        "id": "bAyhO3CdXhm_",
        "outputId": "e65652d3-993f-4767-d527-e33308510fff"
      },
      "execution_count": 37,
      "outputs": [
        {
          "output_type": "stream",
          "name": "stdout",
          "text": [
            "\n",
            "Aggregation of Pulse and Calories:\n",
            "            Pulse     Calories\n",
            "min     80.000000    50.300000\n",
            "max    159.000000  1860.400000\n",
            "count  169.000000   164.000000\n",
            "mean   107.461538   375.790244\n"
          ]
        }
      ]
    },
    {
      "cell_type": "code",
      "source": [
        "filtered_d_500_1000 = d[(d['Calories'] >= 500) & (d['Calories'] <= 1000)]\n",
        "print(\"\\nRows with Calories lying in  between 500 and 1000:\")\n",
        "print(filtered_d_500_1000)"
      ],
      "metadata": {
        "colab": {
          "base_uri": "https://localhost:8080/"
        },
        "id": "xU7BGuniXrN4",
        "outputId": "6009612b-c8ca-4ee2-b95d-df09a8efe2d5"
      },
      "execution_count": 38,
      "outputs": [
        {
          "output_type": "stream",
          "name": "stdout",
          "text": [
            "\n",
            "Rows with Calories lying in  between 500 and 1000:\n",
            "     Duration  Pulse  Maxpulse  Calories\n",
            "51         80    123       146     643.1\n",
            "62        160    109       135     853.0\n",
            "65        180     90       130     800.4\n",
            "66        150    105       135     873.4\n",
            "67        150    107       130     816.0\n",
            "72         90    100       127     700.0\n",
            "73        150     97       127     953.2\n",
            "75         90     98       125     563.2\n",
            "78        120    100       130     500.4\n",
            "83        120    100       130     500.0\n",
            "90        180    101       127     600.1\n",
            "99         90     93       124     604.1\n",
            "101        90     90       110     500.0\n",
            "102        90     90       100     500.0\n",
            "103        90     90       100     500.4\n",
            "106       180     90       120     800.3\n",
            "108        90     90       120     500.3\n"
          ]
        }
      ]
    },
    {
      "cell_type": "code",
      "source": [
        "filtered_d_calories_pulse = d[(d['Calories'] > 500) & (d['Pulse'] < 100)]\n",
        "print(\"\\nRows with Calories > 500 and Pulses < 100:\")\n",
        "print(filtered_d_calories_pulse)"
      ],
      "metadata": {
        "colab": {
          "base_uri": "https://localhost:8080/"
        },
        "id": "eB1mnjrrX0wT",
        "outputId": "89a678b8-51fa-40ba-db65-1b644b1fdea1"
      },
      "execution_count": 42,
      "outputs": [
        {
          "output_type": "stream",
          "name": "stdout",
          "text": [
            "\n",
            "Rows with Calories > 500 and Pulses < 100:\n",
            "     Duration  Pulse  Maxpulse  Calories\n",
            "65        180     90       130     800.4\n",
            "70        150     97       129    1115.0\n",
            "73        150     97       127     953.2\n",
            "75         90     98       125     563.2\n",
            "99         90     93       124     604.1\n",
            "103        90     90       100     500.4\n",
            "106       180     90       120     800.3\n",
            "108        90     90       120     500.3\n"
          ]
        }
      ]
    },
    {
      "cell_type": "code",
      "source": [
        "d_modified = d.drop(columns=['Maxpulse'])\n",
        "print(\"DataFrame 'd_modified' with out 'Maxpulse':\")\n",
        "print(d_modified.head())\n"
      ],
      "metadata": {
        "colab": {
          "base_uri": "https://localhost:8080/"
        },
        "id": "rmPSSCl2X88Z",
        "outputId": "55c0aaff-1fed-413c-de72-f5f84b092dba"
      },
      "execution_count": 43,
      "outputs": [
        {
          "output_type": "stream",
          "name": "stdout",
          "text": [
            "DataFrame 'd_modified' with out 'Maxpulse':\n",
            "   Duration  Pulse  Calories\n",
            "0        60    110     409.1\n",
            "1        60    117     479.0\n",
            "2        60    103     340.0\n",
            "3        45    109     282.4\n",
            "4        45    117     406.0\n"
          ]
        }
      ]
    },
    {
      "cell_type": "code",
      "source": [
        "d.drop(columns=['Maxpulse'], inplace=True)\n",
        "print(\"\\nUpdated DataFrame 'd' without 'Maxpulse':\")\n",
        "print(d.head())"
      ],
      "metadata": {
        "colab": {
          "base_uri": "https://localhost:8080/"
        },
        "id": "KDXpk_unYFqi",
        "outputId": "f4981aff-b140-4ebd-9c84-7697ff39eb25"
      },
      "execution_count": 44,
      "outputs": [
        {
          "output_type": "stream",
          "name": "stdout",
          "text": [
            "\n",
            "Updated DataFrame 'd' without 'Maxpulse':\n",
            "   Duration  Pulse  Calories\n",
            "0        60    110     409.1\n",
            "1        60    117     479.0\n",
            "2        60    103     340.0\n",
            "3        45    109     282.4\n",
            "4        45    117     406.0\n"
          ]
        }
      ]
    },
    {
      "cell_type": "code",
      "source": [
        "d['Calories'] = d['Calories'].fillna(0).astype(int)\n",
        "print(\"\\nDataFrame with 'Calories' as integer:\")\n",
        "print(d.dtypes)"
      ],
      "metadata": {
        "colab": {
          "base_uri": "https://localhost:8080/"
        },
        "id": "I8dRNRzeYK9Z",
        "outputId": "fb96c1af-90c0-41da-a5aa-bf8338b3cb08"
      },
      "execution_count": 46,
      "outputs": [
        {
          "output_type": "stream",
          "name": "stdout",
          "text": [
            "\n",
            "DataFrame with 'Calories' as integer:\n",
            "Duration    int64\n",
            "Pulse       int64\n",
            "Calories    int64\n",
            "dtype: object\n"
          ]
        }
      ]
    },
    {
      "cell_type": "code",
      "source": [
        "import matplotlib.pyplot as plt\n",
        "plt.scatter(df['Duration'], df['Calories'])\n",
        "plt.title('Scatter Plot of Duration vs Calories')\n",
        "plt.xlabel('Duration')\n",
        "plt.ylabel('Calories')\n",
        "plt.show()"
      ],
      "metadata": {
        "colab": {
          "base_uri": "https://localhost:8080/",
          "height": 472
        },
        "id": "W8vHj83iYRT6",
        "outputId": "8802b424-cbe8-4ea3-e8ff-162df3f1d054"
      },
      "execution_count": 47,
      "outputs": [
        {
          "output_type": "display_data",
          "data": {
            "text/plain": [
              "<Figure size 640x480 with 1 Axes>"
            ],
            "image/png": "[encoded data removed]"
          },
          "metadata": {}
        }
      ]
    }
  ]
}