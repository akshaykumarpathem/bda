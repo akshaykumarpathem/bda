{
  "nbformat": 4,
  "nbformat_minor": 0,
  "metadata": {
    "colab": {
      "provenance": []
    },
    "kernelspec": {
      "name": "python3",
      "display_name": "Python 3"
    },
    "language_info": {
      "name": "python"
    }
  },
  "cells": [
    {
      "cell_type": "markdown",
      "source": [],
      "metadata": {
        "id": "XgMKysutu2AU"
      }
    },
    {
      "cell_type": "markdown",
      "source": [
        "1.Explain the difference between Counter.count and self._count Counter.count :Scope: Shared across all instances of the Counter class.Purpose: Keeps track of a value common to all instances. In this case, it tracks the total number of increments made by all instances.Access: Can be accessed using Counter.count or any instance (instance.count), but modifying it affects all instances.self._count (Instance Variable):Scope: Specific to the individual instance.Purpose: Keeps track of a value unique to that instance. In this case, it tracks the number of increments made to that particular instance.Access: Accessed using self within instance methods.\n",
        "\n",
        "2.What is the output of a.get_counts() and b.get_counts() a.get_counts():Returns: \"Instance count: 2, Class count: 3\" b.get_counts():Returns: \"Instance count: 1, Class count: 3\"\n",
        "\n",
        "3\"How does the increment method affect both the class and instance variables?Instance Variable:Effect: Increases by 1 each time the increment method is called on that instance. This reflects the count of increments specific to that instance.Class Variable (Counter.count):**Effect**: Also increases by 1 each time the increment method is called on any instance. This reflects the total number of increments across all instances.while **Counter.count** tracks the total number of increments across all instances.The increment method modifies both variables, demonstrating how instance and class variables interact in Python classes"
      ],
      "metadata": {
        "id": "uZSq9kxV5w8f"
      }
    },
    {
      "cell_type": "code",
      "source": [
        "def sum_all(*args):\n",
        "    return sum(args)\n",
        "\n",
        "print(\"sum of 1,2,3 is:\", sum_all(1, 2, 3))\n",
        "print(\"sum of 4,5,6,7 is:\", sum_all(4, 5, 6, 7))\n"
      ],
      "metadata": {
        "colab": {
          "base_uri": "https://localhost:8080/"
        },
        "id": "o_-jR6lvwYlw",
        "outputId": "055799db-2917-4342-f38f-bda2a23158db"
      },
      "execution_count": null,
      "outputs": [
        {
          "output_type": "stream",
          "name": "stdout",
          "text": [
            "sum of 1,2,3 is: 6\n",
            "sum of 4,5,6,7 is: 22\n"
          ]
        }
      ]
    },
    {
      "cell_type": "markdown",
      "source": [],
      "metadata": {
        "id": "XOA8H7DO5uAA"
      }
    },
    {
      "cell_type": "code",
      "source": [
        "def first_word(words):\n",
        "    sorted_words = sorted(words)\n",
        "    return sorted_words[0]\n",
        "students = ['allu', 'mohit', 'raju', 'nitish', 'praveen', 'akshay']\n",
        "print(first_word(students))\n"
      ],
      "metadata": {
        "colab": {
          "base_uri": "https://localhost:8080/"
        },
        "id": "urX6sH-DzCry",
        "outputId": "9c91af7d-5831-4147-9924-69bd95dc4ade"
      },
      "execution_count": null,
      "outputs": [
        {
          "output_type": "stream",
          "name": "stdout",
          "text": [
            "akshay\n"
          ]
        }
      ]
    },
    {
      "cell_type": "code",
      "source": [
        "class Employee:\n",
        "    employee_count = 0\n",
        "\n",
        "    def __init__(self, name, family, salary, department):\n",
        "        self.name = name\n",
        "        self.family = family\n",
        "        self.salary = salary\n",
        "        self.department = department\n",
        "        Employee.employee_count += 1\n",
        "    @staticmethod\n",
        "    def average_salary(employees):\n",
        "        if not employees:\n",
        "            return 0\n",
        "        total_salary = sum(emp.salary for emp in employees)\n",
        "        return total_salary / len(employees)\n",
        "\n",
        "    def __str__(self):\n",
        "        return f\"Employee(Name: {self.name}, Family: {self.family}, Salary: {self.salary}, Department: {self.department})\"\n",
        "\n",
        "class FulltimeEmployee(Employee):\n",
        "    def __init__(self, name, family, salary, department, benefits):\n",
        "        super().__init__(name, family, salary, department)\n",
        "        self.benefits = benefits\n",
        "\n",
        "    def __str__(self):\n",
        "        return f\"FulltimeEmployee(Name: {self.name}, Family: {self.family}, Salary: {self.salary}, Department: {self.department}, Benefits: {self.benefits})\"\n",
        "emp1 = Employee(\"akshay\", \"kumar\", 36000, \"HR\")\n",
        "emp2 = Employee(\"bhanu\", \"teja\", 40000, \"IT\")\n",
        "emp3 = FulltimeEmployee(\"venkata\", \"praveen\", 120000, \"Finance\", \"Health Insurance\")\n",
        "employees = [emp1, emp2, emp3]\n",
        "print(emp1)\n",
        "print(emp2)\n",
        "print(emp3)\n",
        "average_salary = Employee.average_salary(employees)\n",
        "print(f\"Average Salary: {average_salary}\")\n",
        "print(f\"Total Number of Employees: {Employee.employee_count}\")\n"
      ],
      "metadata": {
        "colab": {
          "base_uri": "https://localhost:8080/"
        },
        "id": "G1JVRF1G1_6p",
        "outputId": "c89393ff-8b60-451e-e38d-831214a22126"
      },
      "execution_count": 11,
      "outputs": [
        {
          "output_type": "stream",
          "name": "stdout",
          "text": [
            "Employee(Name: akshay, Family: kumar, Salary: 36000, Department: HR)\n",
            "Employee(Name: bhanu, Family: teja, Salary: 40000, Department: IT)\n",
            "FulltimeEmployee(Name: venkata, Family: praveen, Salary: 120000, Department: Finance, Benefits: Health Insurance)\n",
            "Average Salary: 65333.333333333336\n",
            "Total Number of Employees: 3\n"
          ]
        }
      ]
    }
  ]
}