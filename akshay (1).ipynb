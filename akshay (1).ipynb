{
  "nbformat": 4,
  "nbformat_minor": 0,
  "metadata": {
    "colab": {
      "provenance": []
    },
    "kernelspec": {
      "name": "python3",
      "display_name": "Python 3"
    },
    "language_info": {
      "name": "python"
    }
  },
  "cells": [
    {
      "cell_type": "code",
      "execution_count": null,
      "metadata": {
        "colab": {
          "base_uri": "https://localhost:8080/"
        },
        "id": "q2rAiK1tpsJb",
        "outputId": "d1f0725b-9274-4a97-b9de-b80b641fd9dd"
      },
      "outputs": [
        {
          "output_type": "stream",
          "name": "stdout",
          "text": [
            "Enter the string 'Python': akshay\n",
            "Reversed string after deletion: yahs\n"
          ]
        }
      ],
      "source": [
        "input_string = input(\"Enter the string 'Python': \")\n",
        "char_list = list(input_string)\n",
        "if len(char_list) >= 2:\n",
        "del char_list[0]\n",
        "del char_list[0]\n",
        "reversed_list = char_list[::-1]\n",
        "result_string = ''.join(reversed_list)\n",
        "print(\"Reversed string after deletion:\", result_string)\n",
        "\n"
      ]
    },
    {
      "cell_type": "code",
      "source": [
        "num1 = float(input(\"Enter the first number: \"))\n",
        "num2 = float(input(\"Enter the second number: \"))\n",
        "sum_result = num1 + num2\n",
        "difference_result = num1 - num2\n",
        "product_result = num1 * num2\n",
        "if num2 != 0:\n",
        "quotient_result = num1 / num2\n",
        "else:\n",
        "quotient_result = \"undefined (division by zero)\"\n",
        "print(f\"Sum: {num1} + {num2} = {sum_result}\")\n",
        "print(f\"Difference: {num1} - {num2} = {difference_result}\")\n",
        "print(f\"Product: {num1} * {num2} = {product_result}\")\n",
        "print(f\"Quotient: {num1} / {num2} = {quotient_result}\")\n",
        "\n"
      ],
      "metadata": {
        "colab": {
          "base_uri": "https://localhost:8080/"
        },
        "id": "68ElIKCNqwi4",
        "outputId": "4f9bfc38-d405-4cdd-fb55-d243242ea9d0"
      },
      "execution_count": null,
      "outputs": [
        {
          "output_type": "stream",
          "name": "stdout",
          "text": [
            "Enter the first number: 6\n",
            "Enter the second number: 5\n",
            "Sum: 6.0 + 5.0 = 11.0\n",
            "Difference: 6.0 - 5.0 = 1.0\n",
            "Product: 6.0 * 5.0 = 30.0\n",
            "Quotient: 6.0 / 5.0 = 1.2\n"
          ]
        }
      ]
    },
    {
      "cell_type": "code",
      "source": [
        "sentence = input(\"Enter a sentence: \")\n",
        "modified_sentence = sentence.replace('python', 'pythons')\n",
        "print(\"Modified sentence:\", modified_sentence)\n",
        "\n"
      ],
      "metadata": {
        "colab": {
          "base_uri": "https://localhost:8080/"
        },
        "id": "SUVeeuWUqlVc",
        "outputId": "5b77c728-8dfd-4a0e-aa7d-2c2340e7deac"
      },
      "execution_count": null,
      "outputs": [
        {
          "output_type": "stream",
          "name": "stdout",
          "text": [
            "Enter a sentence: i love python\n",
            "Modified sentence: i love pythons\n"
          ]
        }
      ]
    },
    {
      "cell_type": "code",
      "source": [
        "score = float(input(\"Enter the class score (0-100): \"))\n",
        "if 90 <= score <= 100:\n",
        "    grade = 'A'\n",
        "elif 80 <= score < 90:\n",
        "    grade = 'B'\n",
        "elif 70 <= score < 80:\n",
        "    grade = 'C'\n",
        "elif 60 <= score < 70:\n",
        "    grade = 'D'\n",
        "elif 0 <= score < 60:\n",
        "    grade = 'F'\n",
        "else:\n",
        "    grade = 'Invalid score'\n",
        "print(\"The letter grade is:\", grade)\n",
        "\n"
      ],
      "metadata": {
        "colab": {
          "base_uri": "https://localhost:8080/"
        },
        "id": "gissXUrrrg5I",
        "outputId": "a2b93172-818a-444d-852b-5524f80e6318"
      },
      "execution_count": null,
      "outputs": [
        {
          "output_type": "stream",
          "name": "stdout",
          "text": [
            "Enter the class score (0-100): 45\n",
            "The letter grade is: F\n"
          ]
        }
      ]
    },
    {
      "cell_type": "code",
      "source": [
        "example_list = [123, \"hello\", 45.67, True, None, [1, 2, 3], {'key': 'value'}, (1, 2)]\n",
        "type_list = []\n",
        "for element in example_list:\n",
        "type_list.append(type(element))\n",
        "print(\"Original list:\", example_list)\n",
        "print(\"Types of elements:\", type_list)\n"
      ],
      "metadata": {
        "colab": {
          "base_uri": "https://localhost:8080/"
        },
        "id": "B5mB18NisKFS",
        "outputId": "ca770ef3-89d4-4053-8dec-1b041360c29a"
      },
      "execution_count": null,
      "outputs": [
        {
          "output_type": "stream",
          "name": "stdout",
          "text": [
            "Original list: [123, 'hello', 45.67, True, None, [1, 2, 3], {'key': 'value'}, (1, 2)]\n",
            "Types of elements: [<class 'int'>, <class 'str'>, <class 'float'>, <class 'bool'>, <class 'NoneType'>, <class 'list'>, <class 'dict'>, <class 'tuple'>]\n"
          ]
        }
      ]
    },
    {
      "cell_type": "code",
      "source": [
        "T_companies = {'Facebook', 'Google', 'Microsoft', 'Apple', 'IBM', 'Oracle', 'Amazon'}\n",
        "A = {19, 22, 24, 20, 25, 26}\n",
        "B = {19, 22, 20, 25, 26, 24, 28, 27}\n",
        "age = [22, 19, 24, 25, 26, 24, 25, 24]\n",
        "length_T_companies = len(T_companies)\n",
        "print(\"Length of T_companies:\", length_T_companies)\n",
        "T_companies.add('Twitter')\n",
        "print(\"T_companies after adding 'Twitter':\", T_companies)\n",
        "additional_companies = {'Netflix', 'Snapchat'}\n",
        "T_companies.update(additional_companies)\n",
        "print(\"T_companies after adding multiple companies:\", T_companies)\n",
        "T_companies.discard('Snapchat')  # or T_companies.remove('Snapchat')\n",
        "print(\"T_companies after removing 'Snapchat':\", T_companies)\n",
        "union_AB = A.union(B)\n",
        "print(\"Union of A and B:\", union_AB)\n",
        "intersection_AB = A.intersection(B)\n",
        "print(\"Intersection of A and B:\", intersection_AB)\n",
        "is_subset = A.issubset(B)\n",
        "print(\"Is A a subset of B?\", is_subset)\n",
        "are_disjoint = A.isdisjoint(B)\n",
        "print(\"Are A and B disjoint sets?\", are_disjoint)\n",
        "A.update(B)\n",
        "B.update(A)\n",
        "print(\"A after joining with B:\", A)\n",
        "print(\"B after joining with A:\", B)\n",
        "symmetric_difference = A.symmetric_difference(B)\n",
        "print(\"Symmetric difference between A and B:\", symmetric_difference)\n",
        "del T_companies\n",
        "del A\n",
        "del B\n",
        "age_set = set(age)\n",
        "length_age_list = len(age)\n",
        "length_age_set = len(age_set)\n",
        "print(\"Length of age list:\", length_age_list)\n",
        "print(\"Length of age set:\", length_age_set)\n"
      ],
      "metadata": {
        "colab": {
          "base_uri": "https://localhost:8080/"
        },
        "id": "kV5xkLVCsz1M",
        "outputId": "803d043c-a66b-4ef0-875b-4da342368983"
      },
      "execution_count": null,
      "outputs": [
        {
          "output_type": "stream",
          "name": "stdout",
          "text": [
            "Length of T_companies: 7\n",
            "T_companies after adding 'Twitter': {'Microsoft', 'Apple', 'Twitter', 'Amazon', 'Google', 'IBM', 'Facebook', 'Oracle'}\n",
            "T_companies after adding multiple companies: {'Apple', 'Twitter', 'Google', 'Netflix', 'Oracle', 'Facebook', 'Snapchat', 'Amazon', 'IBM', 'Microsoft'}\n",
            "T_companies after removing 'Snapchat': {'Apple', 'Twitter', 'Google', 'Netflix', 'Oracle', 'Facebook', 'Amazon', 'IBM', 'Microsoft'}\n",
            "Union of A and B: {19, 20, 22, 24, 25, 26, 27, 28}\n",
            "Intersection of A and B: {19, 20, 22, 24, 25, 26}\n",
            "Is A a subset of B? True\n",
            "Are A and B disjoint sets? False\n",
            "A after joining with B: {19, 20, 22, 24, 25, 26, 27, 28}\n",
            "B after joining with A: {19, 20, 22, 24, 25, 26, 27, 28}\n",
            "Symmetric difference between A and B: set()\n",
            "Length of age list: 8\n",
            "Length of age set: 5\n"
          ]
        }
      ]
    }
  ]
}